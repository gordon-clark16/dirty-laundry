{
  "nbformat": 4,
  "nbformat_minor": 0,
  "metadata": {
    "colab": {
      "name": "Bakery_NumPy_Exercise.ipynb",
      "provenance": [],
      "authorship_tag": "ABX9TyMbSOM5YfuXjKwyn9Rj+t+Q"
    },
    "kernelspec": {
      "name": "python3",
      "display_name": "Python 3"
    },
    "language_info": {
      "name": "python"
    }
  },
  "cells": [
    {
      "cell_type": "code",
      "metadata": {
        "colab": {
          "base_uri": "https://localhost:8080/"
        },
        "id": "afSx7W_leD77",
        "outputId": "408ae3b2-68d8-445d-ff75-047653588f38"
      },
      "source": [
        "price = [2, 1, 10]\n",
        "quantity_sold = [17, 40, 1]\n",
        "import numpy as np\n",
        "price_array = np.array(price)\n",
        "quantity_sold_array = np.array(quantity_sold)\n",
        "cost_array = np.array([0.25, 0.50, 5.00])\n",
        "profit_array = price_array - cost_array\n",
        "price_array = np.append(price_array, 7)\n",
        "price_array = np.append(price_array, [4.5, 3, 4, 9])\n",
        "price_array = np.delete(price_array, -1)\n",
        "price_array[2] = 12\n",
        "quantity_sold_array = np.append(quantity_sold_array,[2, 3, 16, 5])\n",
        "quantity_sold_array[1] = 39\n",
        "sales_array = price_array * quantity_sold_array\n",
        "print(sales_array)\n",
        "quantity_leftover_array = np.array([0, 0, 2, 1, 6, 0, 2])\n",
        "half_price_array = (price_array)/2\n",
        "clearance_array = quantity_leftover_array * half_price_array\n",
        "print(clearance_array)\n",
        "total_array = sales_array + clearance_array\n",
        "print(sum(total_array))\n"
      ],
      "execution_count": null,
      "outputs": [
        {
          "output_type": "stream",
          "name": "stdout",
          "text": [
            "[34.  39.  12.  14.  13.5 48.  20. ]\n",
            "[ 0.   0.  12.   3.5 13.5  0.   4. ]\n",
            "213.5\n"
          ]
        }
      ]
    }
  ]
}